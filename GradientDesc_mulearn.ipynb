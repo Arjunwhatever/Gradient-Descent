{
  "nbformat": 4,
  "nbformat_minor": 0,
  "metadata": {
    "colab": {
      "provenance": [],
      "authorship_tag": "ABX9TyONXSZXExTnOYprGY2OTx23",
      "include_colab_link": true
    },
    "kernelspec": {
      "name": "python3",
      "display_name": "Python 3"
    },
    "language_info": {
      "name": "python"
    }
  },
  "cells": [
    {
      "cell_type": "markdown",
      "metadata": {
        "id": "view-in-github",
        "colab_type": "text"
      },
      "source": [
        "<a href=\"https://colab.research.google.com/github/Arjunwhatever/Gradient-Descent/blob/main/GradientDesc_mulearn.ipynb\" target=\"_parent\"><img src=\"https://colab.research.google.com/assets/colab-badge.svg\" alt=\"Open In Colab\"/></a>"
      ]
    },
    {
      "cell_type": "code",
      "source": [
        "import numpy as np"
      ],
      "metadata": {
        "id": "NiRf4V3-8uOO"
      },
      "execution_count": 21,
      "outputs": []
    },
    {
      "cell_type": "markdown",
      "source": [
        "Getting the input from the user"
      ],
      "metadata": {
        "id": "WPSmXxA8EEMX"
      }
    },
    {
      "cell_type": "code",
      "source": [
        "a = float(input(\"Enter the coefficent - a : \"))\n",
        "b = float(input(\"Enter the coefficent - b : \"))\n",
        "c = float(input(\"Enter the coefficent - c : \"))\n",
        "d = float(input(\"Enter the coefficent - d : \"))"
      ],
      "metadata": {
        "colab": {
          "base_uri": "https://localhost:8080/"
        },
        "id": "k5MMCCvq81i7",
        "outputId": "955810b8-8a39-418d-832b-43415ddf859a"
      },
      "execution_count": 22,
      "outputs": [
        {
          "name": "stdout",
          "output_type": "stream",
          "text": [
            "Enter the coefficent - a : .1\n",
            "Enter the coefficent - b : .2\n",
            "Enter the coefficent - c : .3\n",
            "Enter the coefficent - d : .4\n"
          ]
        }
      ]
    },
    {
      "cell_type": "markdown",
      "source": [
        "Giving 'x' a random value\n"
      ],
      "metadata": {
        "id": "YFcaBFeKHA4K"
      }
    },
    {
      "cell_type": "code",
      "source": [
        "x = np.random.rand()\n",
        "\n",
        "learning_rate = .01\n",
        "epochs =100"
      ],
      "metadata": {
        "id": "DRwTjJauDEC7"
      },
      "execution_count": 23,
      "outputs": []
    },
    {
      "cell_type": "markdown",
      "source": [
        "Training [SGD]\n"
      ],
      "metadata": {
        "id": "Zs3-lL0wKbxK"
      }
    },
    {
      "cell_type": "code",
      "source": [
        "for epoch in range(epochs):\n",
        "  value = a*x**3 + b*x**2 + d*x +c\n",
        "  #Calculate the gradient of the equation with respect to x\n",
        "  gradient  = 3*a *x**2 + 2*b*x+c\n",
        "  #Apply ReLU to the gradient (if it's negative)\n",
        "  if gradient < -1:\n",
        "    gradient =0\n",
        "    #Updating x using SGD\n",
        "    x -=  learning_rate *gradient\n",
        "\n"
      ],
      "metadata": {
        "id": "IG1IP-eUKglj"
      },
      "execution_count": 24,
      "outputs": []
    },
    {
      "cell_type": "code",
      "source": [
        "print(f\"The solution for x is approximately : {x}\")"
      ],
      "metadata": {
        "colab": {
          "base_uri": "https://localhost:8080/"
        },
        "id": "R-vIA6-ULX18",
        "outputId": "e8d41faf-6b14-49f1-a232-569f65a5e559"
      },
      "execution_count": 25,
      "outputs": [
        {
          "output_type": "stream",
          "name": "stdout",
          "text": [
            "The solution for x is approximately : 0.6242722328545222\n"
          ]
        }
      ]
    },
    {
      "cell_type": "code",
      "source": [],
      "metadata": {
        "id": "4yfA9497L3M4"
      },
      "execution_count": null,
      "outputs": []
    }
  ]
}